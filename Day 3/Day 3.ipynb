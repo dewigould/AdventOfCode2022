{
 "cells": [
  {
   "cell_type": "markdown",
   "metadata": {},
   "source": [
    "## Part 1"
   ]
  },
  {
   "cell_type": "code",
   "execution_count": 81,
   "metadata": {},
   "outputs": [],
   "source": [
    "with open('inputday3.txt') as f:\n",
    "    lines = [(line[0:int(len(line)/2)],line[int(len(line)/2):]) for line in f]   "
   ]
  },
  {
   "cell_type": "code",
   "execution_count": 82,
   "metadata": {},
   "outputs": [],
   "source": [
    "def find_common_item(string1,string2):\n",
    "    return list(set(string1).intersection(set(string2)))[0]"
   ]
  },
  {
   "cell_type": "code",
   "execution_count": 83,
   "metadata": {},
   "outputs": [],
   "source": [
    "#priority mappings\n",
    "alphabet_list=\"abcdefghijklmnopqrstuvwxyzABCDEFGHIJKLMNOPQRSTUVWXYZ\"\n",
    "\n",
    "def find_priority_of_item(letter):\n",
    "    return(alphabet_list.index(letter)+1)\n",
    "    "
   ]
  },
  {
   "cell_type": "code",
   "execution_count": 84,
   "metadata": {},
   "outputs": [],
   "source": [
    "total_priority_score=0\n",
    "for line in lines:\n",
    "    total_priority_score+=find_priority_of_item(find_common_item(line[0],line[1]))"
   ]
  },
  {
   "cell_type": "code",
   "execution_count": 85,
   "metadata": {},
   "outputs": [
    {
     "name": "stdout",
     "output_type": "stream",
     "text": [
      "Total Priority Score: 7674\n"
     ]
    }
   ],
   "source": [
    "print(\"Total Priority Score:\", total_priority_score)"
   ]
  },
  {
   "cell_type": "markdown",
   "metadata": {},
   "source": [
    "## Part 3"
   ]
  },
  {
   "cell_type": "code",
   "execution_count": 98,
   "metadata": {},
   "outputs": [],
   "source": [
    "with open('inputday3.txt') as f:\n",
    "    lines = [line[:-1] for line in f]   "
   ]
  },
  {
   "cell_type": "code",
   "execution_count": 99,
   "metadata": {},
   "outputs": [],
   "source": [
    "#Collect in groups of 3\n",
    "n=3\n",
    "groups_of_three=[]\n",
    "for i in range(0, len(lines), n):\n",
    "    groups_of_three.append(lines[i:i+n])"
   ]
  },
  {
   "cell_type": "code",
   "execution_count": 100,
   "metadata": {},
   "outputs": [],
   "source": [
    "def find_common_element_amongst_group_of_three(group_of_three):\n",
    "    set0 = set(group_of_three[0])\n",
    "    set1 = set(group_of_three[1])\n",
    "    set2 = set(group_of_three[2])\n",
    "    \n",
    "    return list(set(set0).intersection(set(set1)).intersection(set2))[0]"
   ]
  },
  {
   "cell_type": "code",
   "execution_count": 101,
   "metadata": {},
   "outputs": [],
   "source": [
    "total_priority_score=0\n",
    "for group in groups_of_three:\n",
    "    total_priority_score+=find_priority_of_item(find_common_element_amongst_group_of_three(group))"
   ]
  },
  {
   "cell_type": "code",
   "execution_count": 102,
   "metadata": {},
   "outputs": [
    {
     "name": "stdout",
     "output_type": "stream",
     "text": [
      "Total Priority Score: 2805\n"
     ]
    }
   ],
   "source": [
    "print(\"Total Priority Score:\", total_priority_score)"
   ]
  },
  {
   "cell_type": "code",
   "execution_count": null,
   "metadata": {},
   "outputs": [],
   "source": []
  }
 ],
 "metadata": {
  "kernelspec": {
   "display_name": "Python 3",
   "language": "python",
   "name": "python3"
  },
  "language_info": {
   "codemirror_mode": {
    "name": "ipython",
    "version": 3
   },
   "file_extension": ".py",
   "mimetype": "text/x-python",
   "name": "python",
   "nbconvert_exporter": "python",
   "pygments_lexer": "ipython3",
   "version": "3.7.9"
  }
 },
 "nbformat": 4,
 "nbformat_minor": 4
}
