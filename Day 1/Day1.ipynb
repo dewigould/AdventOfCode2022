{
 "cells": [
  {
   "cell_type": "markdown",
   "metadata": {},
   "source": [
    "## Part 1"
   ]
  },
  {
   "cell_type": "code",
   "execution_count": 41,
   "metadata": {},
   "outputs": [],
   "source": [
    "with open('inputday1.txt') as f:\n",
    "    lines = [line for line in f]   "
   ]
  },
  {
   "cell_type": "code",
   "execution_count": 44,
   "metadata": {},
   "outputs": [],
   "source": [
    "def list_of_elf_totals(lines_list):\n",
    "    totals = []\n",
    "    count=0\n",
    "    for line in lines:\n",
    "        if line != '\\n':\n",
    "            count+=int(line)\n",
    "        else:\n",
    "            totals.append(count)\n",
    "            count=0\n",
    "    totals.append(count) #catch the last case\n",
    "    return totals"
   ]
  },
  {
   "cell_type": "code",
   "execution_count": 47,
   "metadata": {},
   "outputs": [
    {
     "name": "stdout",
     "output_type": "stream",
     "text": [
      "The elf with the most calories has this many calories:  68467\n"
     ]
    }
   ],
   "source": [
    "calorie_totals=list_of_elf_totals(lines)\n",
    "print(\"The elf with the most calories has this many calories: \", max(calorie_totals))"
   ]
  },
  {
   "cell_type": "markdown",
   "metadata": {},
   "source": [
    "## Part 2"
   ]
  },
  {
   "cell_type": "code",
   "execution_count": 74,
   "metadata": {},
   "outputs": [],
   "source": [
    "calorie_totals.sort(reverse=True) #.sort() modifies the original list"
   ]
  },
  {
   "cell_type": "code",
   "execution_count": 76,
   "metadata": {},
   "outputs": [
    {
     "name": "stdout",
     "output_type": "stream",
     "text": [
      "The three elves with the most calories have combined total of:  203420\n"
     ]
    }
   ],
   "source": [
    "print(\"The three elves with the most calories have combined total of: \", calorie_totals[0]+calorie_totals[1]+calorie_totals[2])"
   ]
  },
  {
   "cell_type": "code",
   "execution_count": null,
   "metadata": {},
   "outputs": [],
   "source": []
  }
 ],
 "metadata": {
  "kernelspec": {
   "display_name": "Python 3",
   "language": "python",
   "name": "python3"
  },
  "language_info": {
   "codemirror_mode": {
    "name": "ipython",
    "version": 3
   },
   "file_extension": ".py",
   "mimetype": "text/x-python",
   "name": "python",
   "nbconvert_exporter": "python",
   "pygments_lexer": "ipython3",
   "version": "3.7.9"
  }
 },
 "nbformat": 4,
 "nbformat_minor": 4
}
