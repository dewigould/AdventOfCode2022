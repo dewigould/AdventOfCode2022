{
 "cells": [
  {
   "cell_type": "markdown",
   "metadata": {},
   "source": [
    "## Part 1"
   ]
  },
  {
   "cell_type": "code",
   "execution_count": 8,
   "metadata": {},
   "outputs": [],
   "source": [
    "with open('inputday4.txt') as f:\n",
    "    lines = [(line.split(\",\")[0].split(\"-\"),line.split(\",\")[1].split(\"-\")) for line in f]   "
   ]
  },
  {
   "cell_type": "code",
   "execution_count": 15,
   "metadata": {},
   "outputs": [],
   "source": [
    "def find_if_one_range_contain_the_other(range_1,range_2):\n",
    "    \n",
    "    lower1=int(range_1[0])\n",
    "    upper1=int(range_1[1])\n",
    "    lower2=int(range_2[0])\n",
    "    upper2=int(range_2[1])\n",
    "    \n",
    "    if lower1 <= lower2 and upper1 >= upper2:\n",
    "        return True\n",
    "    if lower2 <= lower1 and upper2 >= upper1:\n",
    "        return True\n",
    "    else:\n",
    "        return False\n",
    "    "
   ]
  },
  {
   "cell_type": "code",
   "execution_count": 21,
   "metadata": {},
   "outputs": [
    {
     "name": "stdout",
     "output_type": "stream",
     "text": [
      "Number of fully overlapping assingments:  464\n"
     ]
    }
   ],
   "source": [
    "count=0\n",
    "for line in lines:\n",
    "    if find_if_one_range_contain_the_other(line[0],line[1]):\n",
    "        count+=1\n",
    "print(\"Number of fully overlapping assingments: \", count)"
   ]
  },
  {
   "cell_type": "markdown",
   "metadata": {},
   "source": [
    "## Part 2"
   ]
  },
  {
   "cell_type": "code",
   "execution_count": 22,
   "metadata": {},
   "outputs": [],
   "source": [
    "def find_if_ranges_overlap(range_1,range_2):\n",
    "    \n",
    "    lower1=int(range_1[0])\n",
    "    upper1=int(range_1[1])\n",
    "    lower2=int(range_2[0])\n",
    "    upper2=int(range_2[1])\n",
    "    \n",
    "    if lower1 <= lower2 and upper1 >= lower2:\n",
    "        return True\n",
    "    if lower2 <= lower1 and upper2 >= lower1:\n",
    "        return True\n",
    "    if lower1 <= lower2 and upper1 >= upper2:\n",
    "        return True\n",
    "    if lower2 <= lower1 and upper2 >= upper1:\n",
    "        return True\n",
    "    else:\n",
    "        return False\n",
    "    "
   ]
  },
  {
   "cell_type": "code",
   "execution_count": 23,
   "metadata": {},
   "outputs": [
    {
     "name": "stdout",
     "output_type": "stream",
     "text": [
      "Number of (at least partially) overlapping assingments:  770\n"
     ]
    }
   ],
   "source": [
    "count=0\n",
    "for line in lines:\n",
    "    if find_if_ranges_overlap(line[0],line[1]):\n",
    "        count+=1\n",
    "print(\"Number of (at least partially) overlapping assingments: \", count)"
   ]
  },
  {
   "cell_type": "code",
   "execution_count": null,
   "metadata": {},
   "outputs": [],
   "source": []
  }
 ],
 "metadata": {
  "kernelspec": {
   "display_name": "Python 3",
   "language": "python",
   "name": "python3"
  },
  "language_info": {
   "codemirror_mode": {
    "name": "ipython",
    "version": 3
   },
   "file_extension": ".py",
   "mimetype": "text/x-python",
   "name": "python",
   "nbconvert_exporter": "python",
   "pygments_lexer": "ipython3",
   "version": "3.7.9"
  }
 },
 "nbformat": 4,
 "nbformat_minor": 4
}
