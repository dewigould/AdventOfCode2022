{
 "cells": [
  {
   "cell_type": "code",
   "execution_count": 50,
   "metadata": {},
   "outputs": [],
   "source": [
    "from collections import Counter"
   ]
  },
  {
   "cell_type": "code",
   "execution_count": 51,
   "metadata": {},
   "outputs": [],
   "source": [
    "with open('inputday6.txt') as f:\n",
    "    lines = [line for line in f][0]  "
   ]
  },
  {
   "cell_type": "markdown",
   "metadata": {},
   "source": [
    "## Part 1"
   ]
  },
  {
   "cell_type": "code",
   "execution_count": 52,
   "metadata": {},
   "outputs": [],
   "source": [
    "def does_string_contain_four_unique_elements(input_string):\n",
    "    if (len(Counter(input_string)))!=4:\n",
    "        return False\n",
    "    return True"
   ]
  },
  {
   "cell_type": "code",
   "execution_count": 53,
   "metadata": {},
   "outputs": [
    {
     "name": "stdout",
     "output_type": "stream",
     "text": [
      "1271 1275 True hgpb\n"
     ]
    }
   ],
   "source": [
    "for i in range(0,len(lines)-4):\n",
    "    if does_string_contain_four_unique_elements(lines[i:i+4]):\n",
    "        print(i,i+4,does_string_contain_four_unique_elements(lines[i:i+4]),lines[i:i+4])\n",
    "        break"
   ]
  },
  {
   "cell_type": "markdown",
   "metadata": {},
   "source": [
    "## Part 2"
   ]
  },
  {
   "cell_type": "code",
   "execution_count": 69,
   "metadata": {},
   "outputs": [],
   "source": [
    "def does_string_contain_N_unique_elements(input_string):\n",
    "    if (len(Counter(input_string)))!=len(input_string):\n",
    "        return False\n",
    "    return True"
   ]
  },
  {
   "cell_type": "code",
   "execution_count": 70,
   "metadata": {},
   "outputs": [
    {
     "name": "stdout",
     "output_type": "stream",
     "text": [
      "3591 3605 True zgchtfwqjsdlnb\n"
     ]
    }
   ],
   "source": [
    "for i in range(0,len(lines)-14):\n",
    "    if does_string_contain_N_unique_elements(lines[i:i+14]):\n",
    "        print(i,i+14,does_string_contain_N_unique_elements(lines[i:i+14]),lines[i:i+14])\n",
    "        break"
   ]
  },
  {
   "cell_type": "code",
   "execution_count": 75,
   "metadata": {},
   "outputs": [
    {
     "name": "stdout",
     "output_type": "stream",
     "text": [
      "9 23 True ldpwncqszvftbr\n"
     ]
    }
   ],
   "source": [
    "testline='nppdvjthqldpwncqszvftbrmjlhg'\n",
    "for i in range(0,len(testline)-14):\n",
    "    if does_string_contain_N_unique_elements(testline[i:i+14]):\n",
    "        print(i,i+14,does_string_contain_N_unique_elements(testline[i:i+14]),testline[i:i+14])\n",
    "        break"
   ]
  },
  {
   "cell_type": "code",
   "execution_count": null,
   "metadata": {},
   "outputs": [],
   "source": []
  }
 ],
 "metadata": {
  "kernelspec": {
   "display_name": "Python 3",
   "language": "python",
   "name": "python3"
  },
  "language_info": {
   "codemirror_mode": {
    "name": "ipython",
    "version": 3
   },
   "file_extension": ".py",
   "mimetype": "text/x-python",
   "name": "python",
   "nbconvert_exporter": "python",
   "pygments_lexer": "ipython3",
   "version": "3.7.9"
  }
 },
 "nbformat": 4,
 "nbformat_minor": 4
}
