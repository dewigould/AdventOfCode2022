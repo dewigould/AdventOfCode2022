{
 "cells": [
  {
   "cell_type": "markdown",
   "metadata": {},
   "source": [
    "## Part 1"
   ]
  },
  {
   "cell_type": "code",
   "execution_count": 5,
   "metadata": {},
   "outputs": [],
   "source": [
    "with open('inputday2.txt') as f:\n",
    "    lines = [(line[0],line[2]) for line in f]   "
   ]
  },
  {
   "cell_type": "code",
   "execution_count": 24,
   "metadata": {},
   "outputs": [],
   "source": [
    "def compute_score_for_single_round(input_pair):\n",
    "    \n",
    "    mapping = {\"A\":\"R\",'B':\"P\",\"C\":\"S\"}\n",
    "    mapping2 = {\"X\":\"R\",\"Y\":\"P\",\"Z\":\"S\"}\n",
    "    \n",
    "\n",
    "    firstplayer=mapping[input_pair[0]]\n",
    "    secondplayer=mapping2[input_pair[1]]\n",
    "    \n",
    "    \n",
    "    my_score={\"R\":1,\"P\":2,\"S\":3} #points based on what cards you play\n",
    "    totalscore=my_score[secondplayer]\n",
    "    \n",
    "    if firstplayer==secondplayer: #draw\n",
    "        totalscore+=3\n",
    "        \n",
    "    elif firstplayer==\"R\" and secondplayer==\"P\":\n",
    "        totalscore+=6\n",
    "    elif firstplayer==\"P\" and secondplayer == \"S\":\n",
    "        totalscore+=6\n",
    "    elif firstplayer==\"S\" and secondplayer==\"R\":\n",
    "        totalscore+=6\n",
    "\n",
    "    return totalscore\n",
    "    \n",
    "\n",
    "    "
   ]
  },
  {
   "cell_type": "code",
   "execution_count": 25,
   "metadata": {},
   "outputs": [
    {
     "name": "stdout",
     "output_type": "stream",
     "text": [
      "If you followed the elves' guide, your total score would be:  10310\n"
     ]
    }
   ],
   "source": [
    "final_score=0\n",
    "for line in lines:\n",
    "    final_score+=compute_score_for_single_round(line)\n",
    "print(\"If you followed the elves' guide, your total score would be: \", final_score)"
   ]
  },
  {
   "cell_type": "markdown",
   "metadata": {},
   "source": [
    "## Part 2"
   ]
  },
  {
   "cell_type": "code",
   "execution_count": 33,
   "metadata": {},
   "outputs": [
    {
     "data": {
      "text/plain": [
       "7"
      ]
     },
     "execution_count": 33,
     "metadata": {},
     "output_type": "execute_result"
    }
   ],
   "source": [
    "def compute_score_for_single_round_with_new_strategy(input_pair):\n",
    "    \n",
    "    mapping = {\"A\":\"R\",'B':\"P\",\"C\":\"S\"}\n",
    "    mapping2 = {\"X\":\"L\",\"Y\":\"D\",\"Z\":\"W\"}\n",
    "    \n",
    "\n",
    "    firstplayer=mapping[input_pair[0]]\n",
    "    secondplayer=mapping2[input_pair[1]]\n",
    "    \n",
    "    card_scores={\"R\":1,\"P\":2,\"S\":3} #points based on what cards you play\n",
    "    my_score={\"L\":0,\"D\":3,\"W\":6} #points based on what cards you play\n",
    "    totalscore=my_score[secondplayer]\n",
    "    \n",
    "    if secondplayer==\"D\": #must play the same card\n",
    "        totalscore+=card_scores[firstplayer]\n",
    "        \n",
    "    elif firstplayer==\"R\":\n",
    "        if secondplayer==\"W\":\n",
    "            totalscore+=card_scores[\"P\"]\n",
    "        else:\n",
    "            totalscore+=card_scores[\"S\"]\n",
    "    elif firstplayer==\"P\":\n",
    "        if secondplayer==\"W\":\n",
    "            totalscore+=card_scores[\"S\"]\n",
    "        else:\n",
    "            totalscore+=card_scores[\"R\"]\n",
    "    elif firstplayer==\"S\":\n",
    "        if secondplayer==\"W\":\n",
    "            totalscore+=card_scores[\"R\"]\n",
    "        else:\n",
    "            totalscore+=card_scores[\"P\"]\n",
    "\n",
    "    return totalscore\n",
    "    \n",
    "compute_score_for_single_round_with_new_strategy((\"C\",\"Z\"))"
   ]
  },
  {
   "cell_type": "code",
   "execution_count": 30,
   "metadata": {},
   "outputs": [
    {
     "name": "stdout",
     "output_type": "stream",
     "text": [
      "If you followed the corrected elves' guide, your total score would be:  14859\n"
     ]
    }
   ],
   "source": [
    "final_score=0\n",
    "for line in lines:\n",
    "    final_score+=compute_score_for_single_round_with_new_strategy(line)\n",
    "print(\"If you followed the corrected elves' guide, your total score would be: \", final_score)"
   ]
  },
  {
   "cell_type": "code",
   "execution_count": null,
   "metadata": {},
   "outputs": [],
   "source": []
  }
 ],
 "metadata": {
  "kernelspec": {
   "display_name": "Python 3",
   "language": "python",
   "name": "python3"
  },
  "language_info": {
   "codemirror_mode": {
    "name": "ipython",
    "version": 3
   },
   "file_extension": ".py",
   "mimetype": "text/x-python",
   "name": "python",
   "nbconvert_exporter": "python",
   "pygments_lexer": "ipython3",
   "version": "3.7.9"
  }
 },
 "nbformat": 4,
 "nbformat_minor": 4
}
